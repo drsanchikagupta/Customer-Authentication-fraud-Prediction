{
 "cells": [
  {
   "cell_type": "code",
   "execution_count": 167,
   "metadata": {},
   "outputs": [],
   "source": [
    "import pandas as pd\n",
    "import numpy as np\n",
    "import seaborn as sns\n",
    "import matplotlib.pyplot as plt\n",
    "%matplotlib inline"
   ]
  },
  {
   "cell_type": "code",
   "execution_count": 168,
   "metadata": {},
   "outputs": [],
   "source": [
    "from sklearn.preprocessing import StandardScaler # data normalization\n",
    "from sklearn.model_selection import train_test_split # data split\n",
    "from sklearn.tree import DecisionTreeClassifier # Decision tree algorithm\n",
    "from sklearn.neighbors import KNeighborsClassifier # KNN algorithm\n",
    "from sklearn.ensemble import RandomForestClassifier # Random forest tree algorithm\n",
    "from sklearn.linear_model import LogisticRegression # Logistic regression algorithm\n",
    "from sklearn.svm import SVC # SVM algorithm\n",
    "\n",
    "from sklearn.metrics import confusion_matrix # evaluation metric\n",
    "from sklearn.metrics import accuracy_score # evaluation metric\n",
    "from sklearn.metrics import f1_score # evaluation metric"
   ]
  },
  {
   "cell_type": "code",
   "execution_count": 169,
   "metadata": {},
   "outputs": [],
   "source": [
    "df=pd.read_csv(\"data.csv\")"
   ]
  },
  {
   "cell_type": "code",
   "execution_count": 170,
   "metadata": {},
   "outputs": [],
   "source": [
    "df1=df.copy()"
   ]
  },
  {
   "cell_type": "markdown",
   "metadata": {},
   "source": [
    "Let's peek at the top several rows of the DataFrame"
   ]
  },
  {
   "cell_type": "markdown",
   "metadata": {},
   "source": [
    "Here's what the data mean\n",
    "- user A string indicating the username of the person authenticating.\n",
    "- application A string value with the name of the application being accessed.\n",
    "- device_type A string value with a description of the type of device used for a second factor. \n",
    "- time An integer value giving the time of day that the auth was made (seconds after midnight) \n",
    "- fraud 0/1 indicator of whether the authentication was fraudulent."
   ]
  },
  {
   "cell_type": "code",
   "execution_count": 171,
   "metadata": {},
   "outputs": [
    {
     "data": {
      "text/html": [
       "<div>\n",
       "<style scoped>\n",
       "    .dataframe tbody tr th:only-of-type {\n",
       "        vertical-align: middle;\n",
       "    }\n",
       "\n",
       "    .dataframe tbody tr th {\n",
       "        vertical-align: top;\n",
       "    }\n",
       "\n",
       "    .dataframe thead th {\n",
       "        text-align: right;\n",
       "    }\n",
       "</style>\n",
       "<table border=\"1\" class=\"dataframe\">\n",
       "  <thead>\n",
       "    <tr style=\"text-align: right;\">\n",
       "      <th></th>\n",
       "      <th>user</th>\n",
       "      <th>application</th>\n",
       "      <th>device_type</th>\n",
       "      <th>time</th>\n",
       "      <th>fraud</th>\n",
       "    </tr>\n",
       "  </thead>\n",
       "  <tbody>\n",
       "    <tr>\n",
       "      <th>0</th>\n",
       "      <td>user_1</td>\n",
       "      <td>application_1</td>\n",
       "      <td>android</td>\n",
       "      <td>1904.0</td>\n",
       "      <td>0</td>\n",
       "    </tr>\n",
       "    <tr>\n",
       "      <th>1</th>\n",
       "      <td>user_1</td>\n",
       "      <td>application_2</td>\n",
       "      <td>android</td>\n",
       "      <td>12075.0</td>\n",
       "      <td>0</td>\n",
       "    </tr>\n",
       "    <tr>\n",
       "      <th>2</th>\n",
       "      <td>user_1</td>\n",
       "      <td>application_2</td>\n",
       "      <td>android</td>\n",
       "      <td>12540.0</td>\n",
       "      <td>0</td>\n",
       "    </tr>\n",
       "    <tr>\n",
       "      <th>3</th>\n",
       "      <td>user_1</td>\n",
       "      <td>application_2</td>\n",
       "      <td>android</td>\n",
       "      <td>14744.0</td>\n",
       "      <td>0</td>\n",
       "    </tr>\n",
       "    <tr>\n",
       "      <th>4</th>\n",
       "      <td>user_1</td>\n",
       "      <td>application_1</td>\n",
       "      <td>android</td>\n",
       "      <td>16339.0</td>\n",
       "      <td>0</td>\n",
       "    </tr>\n",
       "  </tbody>\n",
       "</table>\n",
       "</div>"
      ],
      "text/plain": [
       "     user    application device_type     time  fraud\n",
       "0  user_1  application_1     android   1904.0      0\n",
       "1  user_1  application_2     android  12075.0      0\n",
       "2  user_1  application_2     android  12540.0      0\n",
       "3  user_1  application_2     android  14744.0      0\n",
       "4  user_1  application_1     android  16339.0      0"
      ]
     },
     "execution_count": 171,
     "metadata": {},
     "output_type": "execute_result"
    }
   ],
   "source": [
    "df.head()"
   ]
  },
  {
   "cell_type": "markdown",
   "metadata": {},
   "source": [
    "Cool we have some data! But how many rows and columns are there? Call .shape to get the number of rows and columns of the DataFrame."
   ]
  },
  {
   "cell_type": "code",
   "execution_count": 172,
   "metadata": {},
   "outputs": [
    {
     "data": {
      "text/plain": [
       "(1014, 5)"
      ]
     },
     "execution_count": 172,
     "metadata": {},
     "output_type": "execute_result"
    }
   ],
   "source": [
    "df.shape"
   ]
  },
  {
   "cell_type": "code",
   "execution_count": 173,
   "metadata": {},
   "outputs": [
    {
     "name": "stdout",
     "output_type": "stream",
     "text": [
      "<class 'pandas.core.frame.DataFrame'>\n",
      "RangeIndex: 1014 entries, 0 to 1013\n",
      "Data columns (total 5 columns):\n",
      "user           1014 non-null object\n",
      "application    1014 non-null object\n",
      "device_type    917 non-null object\n",
      "time           868 non-null float64\n",
      "fraud          1014 non-null int64\n",
      "dtypes: float64(1), int64(1), object(3)\n",
      "memory usage: 39.7+ KB\n"
     ]
    }
   ],
   "source": [
    "df.info()"
   ]
  },
  {
   "cell_type": "markdown",
   "metadata": {},
   "source": [
    "# Table of Contents (with hyperlinks)\n",
    "\n",
    "- [Question 1: Cleaning and Exploratory data analysis](#A) \n",
    "- [Question 2: Predictive Modeling](#B) \n",
    "- [Question 3: Devices and applications](#C)"
   ]
  },
  {
   "cell_type": "markdown",
   "metadata": {},
   "source": [
    "# Cleaning <a id=\"A\"></a>\n",
    "\n",
    "\n",
    "###\tNull values:\n",
    "-\tFind out the null values in the dataframe\n",
    "-\tCreated a new column ‘device_type_new’ where null values are marked as ‘undefined’\n",
    "-   Replaced the null values in time field with 0."
   ]
  },
  {
   "cell_type": "code",
   "execution_count": 174,
   "metadata": {},
   "outputs": [
    {
     "data": {
      "text/html": [
       "<div>\n",
       "<style scoped>\n",
       "    .dataframe tbody tr th:only-of-type {\n",
       "        vertical-align: middle;\n",
       "    }\n",
       "\n",
       "    .dataframe tbody tr th {\n",
       "        vertical-align: top;\n",
       "    }\n",
       "\n",
       "    .dataframe thead th {\n",
       "        text-align: right;\n",
       "    }\n",
       "</style>\n",
       "<table border=\"1\" class=\"dataframe\">\n",
       "  <thead>\n",
       "    <tr style=\"text-align: right;\">\n",
       "      <th></th>\n",
       "      <th>time</th>\n",
       "      <th>fraud</th>\n",
       "    </tr>\n",
       "  </thead>\n",
       "  <tbody>\n",
       "    <tr>\n",
       "      <th>count</th>\n",
       "      <td>8.680000e+02</td>\n",
       "      <td>1014.000000</td>\n",
       "    </tr>\n",
       "    <tr>\n",
       "      <th>mean</th>\n",
       "      <td>4.243908e+04</td>\n",
       "      <td>0.101578</td>\n",
       "    </tr>\n",
       "    <tr>\n",
       "      <th>std</th>\n",
       "      <td>3.581930e+04</td>\n",
       "      <td>0.302242</td>\n",
       "    </tr>\n",
       "    <tr>\n",
       "      <th>min</th>\n",
       "      <td>1.904000e+03</td>\n",
       "      <td>0.000000</td>\n",
       "    </tr>\n",
       "    <tr>\n",
       "      <th>25%</th>\n",
       "      <td>3.021375e+04</td>\n",
       "      <td>0.000000</td>\n",
       "    </tr>\n",
       "    <tr>\n",
       "      <th>50%</th>\n",
       "      <td>3.845000e+04</td>\n",
       "      <td>0.000000</td>\n",
       "    </tr>\n",
       "    <tr>\n",
       "      <th>75%</th>\n",
       "      <td>4.996625e+04</td>\n",
       "      <td>0.000000</td>\n",
       "    </tr>\n",
       "    <tr>\n",
       "      <th>max</th>\n",
       "      <td>1.000003e+06</td>\n",
       "      <td>1.000000</td>\n",
       "    </tr>\n",
       "  </tbody>\n",
       "</table>\n",
       "</div>"
      ],
      "text/plain": [
       "               time        fraud\n",
       "count  8.680000e+02  1014.000000\n",
       "mean   4.243908e+04     0.101578\n",
       "std    3.581930e+04     0.302242\n",
       "min    1.904000e+03     0.000000\n",
       "25%    3.021375e+04     0.000000\n",
       "50%    3.845000e+04     0.000000\n",
       "75%    4.996625e+04     0.000000\n",
       "max    1.000003e+06     1.000000"
      ]
     },
     "execution_count": 174,
     "metadata": {},
     "output_type": "execute_result"
    }
   ],
   "source": [
    "df.describe()"
   ]
  },
  {
   "cell_type": "code",
   "execution_count": 175,
   "metadata": {},
   "outputs": [
    {
     "data": {
      "text/plain": [
       "user             0\n",
       "application      0\n",
       "device_type     97\n",
       "time           146\n",
       "fraud            0\n",
       "dtype: int64"
      ]
     },
     "execution_count": 175,
     "metadata": {},
     "output_type": "execute_result"
    }
   ],
   "source": [
    "#Let's check for null values\n",
    "df.isnull().sum()"
   ]
  },
  {
   "cell_type": "markdown",
   "metadata": {},
   "source": [
    "device_type and time as a lot of null values"
   ]
  },
  {
   "cell_type": "code",
   "execution_count": 176,
   "metadata": {},
   "outputs": [
    {
     "data": {
      "text/plain": [
       "0"
      ]
     },
     "execution_count": 176,
     "metadata": {},
     "output_type": "execute_result"
    }
   ],
   "source": [
    "#Created a new column ‘device_type_new’ where null values are marked as ‘undefined’\n",
    "df['device_type_new']=df['device_type'].fillna('undefined')\n",
    "df['device_type_new'].isnull().sum()"
   ]
  },
  {
   "cell_type": "code",
   "execution_count": 177,
   "metadata": {},
   "outputs": [
    {
     "data": {
      "text/plain": [
       "0"
      ]
     },
     "execution_count": 177,
     "metadata": {},
     "output_type": "execute_result"
    }
   ],
   "source": [
    "#Since the data is less, I dont want to remove the rows with null values so replaced the null values in time field with 0.\n",
    "df['time']= df['time'].fillna(0)\n",
    "df['time'].isnull().sum()"
   ]
  },
  {
   "cell_type": "markdown",
   "metadata": {},
   "source": [
    "# Exploratory data analysis"
   ]
  },
  {
   "cell_type": "code",
   "execution_count": 178,
   "metadata": {},
   "outputs": [
    {
     "data": {
      "text/plain": [
       "0    911\n",
       "1    103\n",
       "Name: fraud, dtype: int64"
      ]
     },
     "execution_count": 178,
     "metadata": {},
     "output_type": "execute_result"
    }
   ],
   "source": [
    "#Let's check for class imbalance by checking number of fraudulent transactions.\n",
    "df['fraud'].value_counts()"
   ]
  },
  {
   "cell_type": "code",
   "execution_count": 179,
   "metadata": {},
   "outputs": [
    {
     "data": {
      "text/plain": [
       "11.31"
      ]
     },
     "execution_count": 179,
     "metadata": {},
     "output_type": "execute_result"
    }
   ],
   "source": [
    "valid_count = len(df[df.fraud == 0])\n",
    "fraud_count = len(df[df.fraud == 1])\n",
    "fraud_percentage = round(fraud_count/valid_count*100, 2)\n",
    "fraud_percentage"
   ]
  },
  {
   "cell_type": "markdown",
   "metadata": {},
   "source": [
    "There are 103 Fraudulent transactions and 911 valid transactions. Its looks like a class imbalance since the ratio of fradulent to valid transactions is 11.31%."
   ]
  },
  {
   "cell_type": "markdown",
   "metadata": {},
   "source": [
    "Let’s first apply our models without balancing it and if we don’t get a good accuracy, precision, recall then we can find a way to balance this dataset. But first, let’s implement the model without it and will balance the data only if needed."
   ]
  },
  {
   "cell_type": "markdown",
   "metadata": {},
   "source": [
    "#### Authentication time\n",
    "##### Divide the time data into - morning, day, night, evening\n",
    "- Night- 12am - 5am (0 - 18000)\n",
    "- Morning - 5am - 9am (18001 - 32400)\n",
    "- Day - 9am - 5pm (32401 - 61200)\n",
    "- Evening - 5pm - 12am (61201 - 86400)"
   ]
  },
  {
   "cell_type": "code",
   "execution_count": 212,
   "metadata": {},
   "outputs": [
    {
     "data": {
      "text/html": [
       "<div>\n",
       "<style scoped>\n",
       "    .dataframe tbody tr th:only-of-type {\n",
       "        vertical-align: middle;\n",
       "    }\n",
       "\n",
       "    .dataframe tbody tr th {\n",
       "        vertical-align: top;\n",
       "    }\n",
       "\n",
       "    .dataframe thead th {\n",
       "        text-align: right;\n",
       "    }\n",
       "</style>\n",
       "<table border=\"1\" class=\"dataframe\">\n",
       "  <thead>\n",
       "    <tr style=\"text-align: right;\">\n",
       "      <th></th>\n",
       "      <th>user</th>\n",
       "      <th>application</th>\n",
       "      <th>device_type</th>\n",
       "      <th>time</th>\n",
       "      <th>fraud</th>\n",
       "      <th>device_type_new</th>\n",
       "      <th>time_of_day</th>\n",
       "    </tr>\n",
       "  </thead>\n",
       "  <tbody>\n",
       "    <tr>\n",
       "      <th>0</th>\n",
       "      <td>user_1</td>\n",
       "      <td>application_1</td>\n",
       "      <td>android</td>\n",
       "      <td>1904.0</td>\n",
       "      <td>0</td>\n",
       "      <td>android</td>\n",
       "      <td>1904.0</td>\n",
       "    </tr>\n",
       "    <tr>\n",
       "      <th>1</th>\n",
       "      <td>user_1</td>\n",
       "      <td>application_2</td>\n",
       "      <td>android</td>\n",
       "      <td>12075.0</td>\n",
       "      <td>0</td>\n",
       "      <td>android</td>\n",
       "      <td>12075.0</td>\n",
       "    </tr>\n",
       "    <tr>\n",
       "      <th>2</th>\n",
       "      <td>user_1</td>\n",
       "      <td>application_2</td>\n",
       "      <td>android</td>\n",
       "      <td>12540.0</td>\n",
       "      <td>0</td>\n",
       "      <td>android</td>\n",
       "      <td>12540.0</td>\n",
       "    </tr>\n",
       "    <tr>\n",
       "      <th>3</th>\n",
       "      <td>user_1</td>\n",
       "      <td>application_2</td>\n",
       "      <td>android</td>\n",
       "      <td>14744.0</td>\n",
       "      <td>0</td>\n",
       "      <td>android</td>\n",
       "      <td>14744.0</td>\n",
       "    </tr>\n",
       "    <tr>\n",
       "      <th>4</th>\n",
       "      <td>user_1</td>\n",
       "      <td>application_1</td>\n",
       "      <td>android</td>\n",
       "      <td>16339.0</td>\n",
       "      <td>0</td>\n",
       "      <td>android</td>\n",
       "      <td>16339.0</td>\n",
       "    </tr>\n",
       "  </tbody>\n",
       "</table>\n",
       "</div>"
      ],
      "text/plain": [
       "     user    application device_type     time  fraud device_type_new  \\\n",
       "0  user_1  application_1     android   1904.0      0         android   \n",
       "1  user_1  application_2     android  12075.0      0         android   \n",
       "2  user_1  application_2     android  12540.0      0         android   \n",
       "3  user_1  application_2     android  14744.0      0         android   \n",
       "4  user_1  application_1     android  16339.0      0         android   \n",
       "\n",
       "   time_of_day  \n",
       "0       1904.0  \n",
       "1      12075.0  \n",
       "2      12540.0  \n",
       "3      14744.0  \n",
       "4      16339.0  "
      ]
     },
     "execution_count": 212,
     "metadata": {},
     "output_type": "execute_result"
    }
   ],
   "source": [
    "df['time_of_day'] = df['time']\n",
    "df.head()"
   ]
  },
  {
   "cell_type": "code",
   "execution_count": 215,
   "metadata": {},
   "outputs": [],
   "source": [
    "def time_to_time_of_day(time):\n",
    "    \n",
    "    if 0 <= time < 18000: \n",
    "        return 'Night'\n",
    "    elif 18000<= time <32400:\n",
    "        return 'Morning'\n",
    "    elif 32400 <= time <61200:\n",
    "        return 'Day'\n",
    "    elif 61200 <= time <86400:\n",
    "        return 'Evening'\n",
    "    else:\n",
    "        return 'Invalid'"
   ]
  },
  {
   "cell_type": "code",
   "execution_count": 216,
   "metadata": {},
   "outputs": [],
   "source": [
    "df['time_of_day']= df['time'].apply(time_to_time_of_day)"
   ]
  },
  {
   "cell_type": "code",
   "execution_count": 217,
   "metadata": {},
   "outputs": [
    {
     "data": {
      "text/html": [
       "<div>\n",
       "<style scoped>\n",
       "    .dataframe tbody tr th:only-of-type {\n",
       "        vertical-align: middle;\n",
       "    }\n",
       "\n",
       "    .dataframe tbody tr th {\n",
       "        vertical-align: top;\n",
       "    }\n",
       "\n",
       "    .dataframe thead th {\n",
       "        text-align: right;\n",
       "    }\n",
       "</style>\n",
       "<table border=\"1\" class=\"dataframe\">\n",
       "  <thead>\n",
       "    <tr style=\"text-align: right;\">\n",
       "      <th></th>\n",
       "      <th>user</th>\n",
       "      <th>application</th>\n",
       "      <th>device_type</th>\n",
       "      <th>time</th>\n",
       "      <th>fraud</th>\n",
       "      <th>device_type_new</th>\n",
       "      <th>time_of_day</th>\n",
       "    </tr>\n",
       "  </thead>\n",
       "  <tbody>\n",
       "    <tr>\n",
       "      <th>0</th>\n",
       "      <td>user_1</td>\n",
       "      <td>application_1</td>\n",
       "      <td>android</td>\n",
       "      <td>1904.0</td>\n",
       "      <td>0</td>\n",
       "      <td>android</td>\n",
       "      <td>Night</td>\n",
       "    </tr>\n",
       "    <tr>\n",
       "      <th>1</th>\n",
       "      <td>user_1</td>\n",
       "      <td>application_2</td>\n",
       "      <td>android</td>\n",
       "      <td>12075.0</td>\n",
       "      <td>0</td>\n",
       "      <td>android</td>\n",
       "      <td>Night</td>\n",
       "    </tr>\n",
       "    <tr>\n",
       "      <th>2</th>\n",
       "      <td>user_1</td>\n",
       "      <td>application_2</td>\n",
       "      <td>android</td>\n",
       "      <td>12540.0</td>\n",
       "      <td>0</td>\n",
       "      <td>android</td>\n",
       "      <td>Night</td>\n",
       "    </tr>\n",
       "    <tr>\n",
       "      <th>3</th>\n",
       "      <td>user_1</td>\n",
       "      <td>application_2</td>\n",
       "      <td>android</td>\n",
       "      <td>14744.0</td>\n",
       "      <td>0</td>\n",
       "      <td>android</td>\n",
       "      <td>Night</td>\n",
       "    </tr>\n",
       "    <tr>\n",
       "      <th>4</th>\n",
       "      <td>user_1</td>\n",
       "      <td>application_1</td>\n",
       "      <td>android</td>\n",
       "      <td>16339.0</td>\n",
       "      <td>0</td>\n",
       "      <td>android</td>\n",
       "      <td>Night</td>\n",
       "    </tr>\n",
       "  </tbody>\n",
       "</table>\n",
       "</div>"
      ],
      "text/plain": [
       "     user    application device_type     time  fraud device_type_new  \\\n",
       "0  user_1  application_1     android   1904.0      0         android   \n",
       "1  user_1  application_2     android  12075.0      0         android   \n",
       "2  user_1  application_2     android  12540.0      0         android   \n",
       "3  user_1  application_2     android  14744.0      0         android   \n",
       "4  user_1  application_1     android  16339.0      0         android   \n",
       "\n",
       "  time_of_day  \n",
       "0       Night  \n",
       "1       Night  \n",
       "2       Night  \n",
       "3       Night  \n",
       "4       Night  "
      ]
     },
     "execution_count": 217,
     "metadata": {},
     "output_type": "execute_result"
    }
   ],
   "source": [
    "df.head()"
   ]
  },
  {
   "cell_type": "code",
   "execution_count": 222,
   "metadata": {},
   "outputs": [
    {
     "data": {
      "text/plain": [
       "Day        490\n",
       "Morning    243\n",
       "Night      165\n",
       "Evening    115\n",
       "Name: time_of_day, dtype: int64"
      ]
     },
     "execution_count": 222,
     "metadata": {},
     "output_type": "execute_result"
    }
   ],
   "source": [
    "df['time_of_day'].value_counts()"
   ]
  },
  {
   "cell_type": "code",
   "execution_count": 221,
   "metadata": {},
   "outputs": [],
   "source": [
    "df.drop(df.loc[df['time_of_day']=='Invalid'].index, inplace=True)\n",
    "#df.drop(df['time_of_day']=='Invalid')"
   ]
  },
  {
   "cell_type": "markdown",
   "metadata": {},
   "source": [
    "## Q2: Predictive Modeling <a id=\"B\"></a>\n",
    "### The attached dataset includes a boolean column called fraud. Please create a baseline predictive model that uses the other available variables to predict whether an authentication is fraudulent. Provide some measure of how well you would expect this model to perform on future authentication records from this population of users. Assume that each authentication is independent from other authentications and that there aren’t long-term temporal patterns "
   ]
  },
  {
   "cell_type": "markdown",
   "metadata": {},
   "source": [
    "## Encoding\n",
    "Next step is to convert categorical data: user, application and device_type into numeric values to be able to use in our model. We will be using one hot encoding to achieve the same."
   ]
  },
  {
   "cell_type": "code",
   "execution_count": 223,
   "metadata": {},
   "outputs": [],
   "source": [
    "def get_dummies(df, col_name):\n",
    "    dummies=pd.get_dummies(df[col_name], prefix=col_name)\n",
    "    df=pd.concat([dummies, df], axis=1)\n",
    "    return df"
   ]
  },
  {
   "cell_type": "code",
   "execution_count": 228,
   "metadata": {},
   "outputs": [],
   "source": [
    "df2 = df"
   ]
  },
  {
   "cell_type": "code",
   "execution_count": 229,
   "metadata": {},
   "outputs": [
    {
     "data": {
      "text/html": [
       "<div>\n",
       "<style scoped>\n",
       "    .dataframe tbody tr th:only-of-type {\n",
       "        vertical-align: middle;\n",
       "    }\n",
       "\n",
       "    .dataframe tbody tr th {\n",
       "        vertical-align: top;\n",
       "    }\n",
       "\n",
       "    .dataframe thead th {\n",
       "        text-align: right;\n",
       "    }\n",
       "</style>\n",
       "<table border=\"1\" class=\"dataframe\">\n",
       "  <thead>\n",
       "    <tr style=\"text-align: right;\">\n",
       "      <th></th>\n",
       "      <th>time_of_day_Day</th>\n",
       "      <th>time_of_day_Evening</th>\n",
       "      <th>time_of_day_Morning</th>\n",
       "      <th>time_of_day_Night</th>\n",
       "      <th>device_type_new_android</th>\n",
       "      <th>device_type_new_iphone</th>\n",
       "      <th>device_type_new_undefined</th>\n",
       "      <th>device_type_new_yubikey</th>\n",
       "      <th>application_application_1</th>\n",
       "      <th>application_application_2</th>\n",
       "      <th>...</th>\n",
       "      <th>user_user_2</th>\n",
       "      <th>user_user_3</th>\n",
       "      <th>user_user_4</th>\n",
       "      <th>user</th>\n",
       "      <th>application</th>\n",
       "      <th>device_type</th>\n",
       "      <th>time</th>\n",
       "      <th>fraud</th>\n",
       "      <th>device_type_new</th>\n",
       "      <th>time_of_day</th>\n",
       "    </tr>\n",
       "  </thead>\n",
       "  <tbody>\n",
       "    <tr>\n",
       "      <th>0</th>\n",
       "      <td>0</td>\n",
       "      <td>0</td>\n",
       "      <td>0</td>\n",
       "      <td>1</td>\n",
       "      <td>1</td>\n",
       "      <td>0</td>\n",
       "      <td>0</td>\n",
       "      <td>0</td>\n",
       "      <td>1</td>\n",
       "      <td>0</td>\n",
       "      <td>...</td>\n",
       "      <td>0</td>\n",
       "      <td>0</td>\n",
       "      <td>0</td>\n",
       "      <td>user_1</td>\n",
       "      <td>application_1</td>\n",
       "      <td>android</td>\n",
       "      <td>1904.0</td>\n",
       "      <td>0</td>\n",
       "      <td>android</td>\n",
       "      <td>Night</td>\n",
       "    </tr>\n",
       "    <tr>\n",
       "      <th>1</th>\n",
       "      <td>0</td>\n",
       "      <td>0</td>\n",
       "      <td>0</td>\n",
       "      <td>1</td>\n",
       "      <td>1</td>\n",
       "      <td>0</td>\n",
       "      <td>0</td>\n",
       "      <td>0</td>\n",
       "      <td>0</td>\n",
       "      <td>1</td>\n",
       "      <td>...</td>\n",
       "      <td>0</td>\n",
       "      <td>0</td>\n",
       "      <td>0</td>\n",
       "      <td>user_1</td>\n",
       "      <td>application_2</td>\n",
       "      <td>android</td>\n",
       "      <td>12075.0</td>\n",
       "      <td>0</td>\n",
       "      <td>android</td>\n",
       "      <td>Night</td>\n",
       "    </tr>\n",
       "    <tr>\n",
       "      <th>2</th>\n",
       "      <td>0</td>\n",
       "      <td>0</td>\n",
       "      <td>0</td>\n",
       "      <td>1</td>\n",
       "      <td>1</td>\n",
       "      <td>0</td>\n",
       "      <td>0</td>\n",
       "      <td>0</td>\n",
       "      <td>0</td>\n",
       "      <td>1</td>\n",
       "      <td>...</td>\n",
       "      <td>0</td>\n",
       "      <td>0</td>\n",
       "      <td>0</td>\n",
       "      <td>user_1</td>\n",
       "      <td>application_2</td>\n",
       "      <td>android</td>\n",
       "      <td>12540.0</td>\n",
       "      <td>0</td>\n",
       "      <td>android</td>\n",
       "      <td>Night</td>\n",
       "    </tr>\n",
       "    <tr>\n",
       "      <th>3</th>\n",
       "      <td>0</td>\n",
       "      <td>0</td>\n",
       "      <td>0</td>\n",
       "      <td>1</td>\n",
       "      <td>1</td>\n",
       "      <td>0</td>\n",
       "      <td>0</td>\n",
       "      <td>0</td>\n",
       "      <td>0</td>\n",
       "      <td>1</td>\n",
       "      <td>...</td>\n",
       "      <td>0</td>\n",
       "      <td>0</td>\n",
       "      <td>0</td>\n",
       "      <td>user_1</td>\n",
       "      <td>application_2</td>\n",
       "      <td>android</td>\n",
       "      <td>14744.0</td>\n",
       "      <td>0</td>\n",
       "      <td>android</td>\n",
       "      <td>Night</td>\n",
       "    </tr>\n",
       "    <tr>\n",
       "      <th>4</th>\n",
       "      <td>0</td>\n",
       "      <td>0</td>\n",
       "      <td>0</td>\n",
       "      <td>1</td>\n",
       "      <td>1</td>\n",
       "      <td>0</td>\n",
       "      <td>0</td>\n",
       "      <td>0</td>\n",
       "      <td>1</td>\n",
       "      <td>0</td>\n",
       "      <td>...</td>\n",
       "      <td>0</td>\n",
       "      <td>0</td>\n",
       "      <td>0</td>\n",
       "      <td>user_1</td>\n",
       "      <td>application_1</td>\n",
       "      <td>android</td>\n",
       "      <td>16339.0</td>\n",
       "      <td>0</td>\n",
       "      <td>android</td>\n",
       "      <td>Night</td>\n",
       "    </tr>\n",
       "  </tbody>\n",
       "</table>\n",
       "<p>5 rows × 21 columns</p>\n",
       "</div>"
      ],
      "text/plain": [
       "   time_of_day_Day  time_of_day_Evening  time_of_day_Morning  \\\n",
       "0                0                    0                    0   \n",
       "1                0                    0                    0   \n",
       "2                0                    0                    0   \n",
       "3                0                    0                    0   \n",
       "4                0                    0                    0   \n",
       "\n",
       "   time_of_day_Night  device_type_new_android  device_type_new_iphone  \\\n",
       "0                  1                        1                       0   \n",
       "1                  1                        1                       0   \n",
       "2                  1                        1                       0   \n",
       "3                  1                        1                       0   \n",
       "4                  1                        1                       0   \n",
       "\n",
       "   device_type_new_undefined  device_type_new_yubikey  \\\n",
       "0                          0                        0   \n",
       "1                          0                        0   \n",
       "2                          0                        0   \n",
       "3                          0                        0   \n",
       "4                          0                        0   \n",
       "\n",
       "   application_application_1  application_application_2  ...  user_user_2  \\\n",
       "0                          1                          0  ...            0   \n",
       "1                          0                          1  ...            0   \n",
       "2                          0                          1  ...            0   \n",
       "3                          0                          1  ...            0   \n",
       "4                          1                          0  ...            0   \n",
       "\n",
       "   user_user_3  user_user_4    user    application device_type     time  \\\n",
       "0            0            0  user_1  application_1     android   1904.0   \n",
       "1            0            0  user_1  application_2     android  12075.0   \n",
       "2            0            0  user_1  application_2     android  12540.0   \n",
       "3            0            0  user_1  application_2     android  14744.0   \n",
       "4            0            0  user_1  application_1     android  16339.0   \n",
       "\n",
       "   fraud  device_type_new time_of_day  \n",
       "0      0          android       Night  \n",
       "1      0          android       Night  \n",
       "2      0          android       Night  \n",
       "3      0          android       Night  \n",
       "4      0          android       Night  \n",
       "\n",
       "[5 rows x 21 columns]"
      ]
     },
     "execution_count": 229,
     "metadata": {},
     "output_type": "execute_result"
    }
   ],
   "source": [
    "df2 = get_dummies(df2, 'user')\n",
    "df2 = get_dummies(df2,'application')\n",
    "df2 = get_dummies(df2, 'device_type_new')\n",
    "df2 = get_dummies(df2, 'time_of_day')\n",
    "df2.head()"
   ]
  },
  {
   "cell_type": "code",
   "execution_count": 230,
   "metadata": {},
   "outputs": [
    {
     "data": {
      "text/html": [
       "<div>\n",
       "<style scoped>\n",
       "    .dataframe tbody tr th:only-of-type {\n",
       "        vertical-align: middle;\n",
       "    }\n",
       "\n",
       "    .dataframe tbody tr th {\n",
       "        vertical-align: top;\n",
       "    }\n",
       "\n",
       "    .dataframe thead th {\n",
       "        text-align: right;\n",
       "    }\n",
       "</style>\n",
       "<table border=\"1\" class=\"dataframe\">\n",
       "  <thead>\n",
       "    <tr style=\"text-align: right;\">\n",
       "      <th></th>\n",
       "      <th>time_of_day_Day</th>\n",
       "      <th>time_of_day_Evening</th>\n",
       "      <th>time_of_day_Morning</th>\n",
       "      <th>time_of_day_Night</th>\n",
       "      <th>device_type_new_android</th>\n",
       "      <th>device_type_new_iphone</th>\n",
       "      <th>device_type_new_undefined</th>\n",
       "      <th>device_type_new_yubikey</th>\n",
       "      <th>application_application_1</th>\n",
       "      <th>application_application_2</th>\n",
       "      <th>user_user_1</th>\n",
       "      <th>user_user_2</th>\n",
       "      <th>user_user_3</th>\n",
       "      <th>user_user_4</th>\n",
       "      <th>fraud</th>\n",
       "    </tr>\n",
       "  </thead>\n",
       "  <tbody>\n",
       "    <tr>\n",
       "      <th>0</th>\n",
       "      <td>0</td>\n",
       "      <td>0</td>\n",
       "      <td>0</td>\n",
       "      <td>1</td>\n",
       "      <td>1</td>\n",
       "      <td>0</td>\n",
       "      <td>0</td>\n",
       "      <td>0</td>\n",
       "      <td>1</td>\n",
       "      <td>0</td>\n",
       "      <td>1</td>\n",
       "      <td>0</td>\n",
       "      <td>0</td>\n",
       "      <td>0</td>\n",
       "      <td>0</td>\n",
       "    </tr>\n",
       "    <tr>\n",
       "      <th>1</th>\n",
       "      <td>0</td>\n",
       "      <td>0</td>\n",
       "      <td>0</td>\n",
       "      <td>1</td>\n",
       "      <td>1</td>\n",
       "      <td>0</td>\n",
       "      <td>0</td>\n",
       "      <td>0</td>\n",
       "      <td>0</td>\n",
       "      <td>1</td>\n",
       "      <td>1</td>\n",
       "      <td>0</td>\n",
       "      <td>0</td>\n",
       "      <td>0</td>\n",
       "      <td>0</td>\n",
       "    </tr>\n",
       "    <tr>\n",
       "      <th>2</th>\n",
       "      <td>0</td>\n",
       "      <td>0</td>\n",
       "      <td>0</td>\n",
       "      <td>1</td>\n",
       "      <td>1</td>\n",
       "      <td>0</td>\n",
       "      <td>0</td>\n",
       "      <td>0</td>\n",
       "      <td>0</td>\n",
       "      <td>1</td>\n",
       "      <td>1</td>\n",
       "      <td>0</td>\n",
       "      <td>0</td>\n",
       "      <td>0</td>\n",
       "      <td>0</td>\n",
       "    </tr>\n",
       "    <tr>\n",
       "      <th>3</th>\n",
       "      <td>0</td>\n",
       "      <td>0</td>\n",
       "      <td>0</td>\n",
       "      <td>1</td>\n",
       "      <td>1</td>\n",
       "      <td>0</td>\n",
       "      <td>0</td>\n",
       "      <td>0</td>\n",
       "      <td>0</td>\n",
       "      <td>1</td>\n",
       "      <td>1</td>\n",
       "      <td>0</td>\n",
       "      <td>0</td>\n",
       "      <td>0</td>\n",
       "      <td>0</td>\n",
       "    </tr>\n",
       "    <tr>\n",
       "      <th>4</th>\n",
       "      <td>0</td>\n",
       "      <td>0</td>\n",
       "      <td>0</td>\n",
       "      <td>1</td>\n",
       "      <td>1</td>\n",
       "      <td>0</td>\n",
       "      <td>0</td>\n",
       "      <td>0</td>\n",
       "      <td>1</td>\n",
       "      <td>0</td>\n",
       "      <td>1</td>\n",
       "      <td>0</td>\n",
       "      <td>0</td>\n",
       "      <td>0</td>\n",
       "      <td>0</td>\n",
       "    </tr>\n",
       "  </tbody>\n",
       "</table>\n",
       "</div>"
      ],
      "text/plain": [
       "   time_of_day_Day  time_of_day_Evening  time_of_day_Morning  \\\n",
       "0                0                    0                    0   \n",
       "1                0                    0                    0   \n",
       "2                0                    0                    0   \n",
       "3                0                    0                    0   \n",
       "4                0                    0                    0   \n",
       "\n",
       "   time_of_day_Night  device_type_new_android  device_type_new_iphone  \\\n",
       "0                  1                        1                       0   \n",
       "1                  1                        1                       0   \n",
       "2                  1                        1                       0   \n",
       "3                  1                        1                       0   \n",
       "4                  1                        1                       0   \n",
       "\n",
       "   device_type_new_undefined  device_type_new_yubikey  \\\n",
       "0                          0                        0   \n",
       "1                          0                        0   \n",
       "2                          0                        0   \n",
       "3                          0                        0   \n",
       "4                          0                        0   \n",
       "\n",
       "   application_application_1  application_application_2  user_user_1  \\\n",
       "0                          1                          0            1   \n",
       "1                          0                          1            1   \n",
       "2                          0                          1            1   \n",
       "3                          0                          1            1   \n",
       "4                          1                          0            1   \n",
       "\n",
       "   user_user_2  user_user_3  user_user_4  fraud  \n",
       "0            0            0            0      0  \n",
       "1            0            0            0      0  \n",
       "2            0            0            0      0  \n",
       "3            0            0            0      0  \n",
       "4            0            0            0      0  "
      ]
     },
     "execution_count": 230,
     "metadata": {},
     "output_type": "execute_result"
    }
   ],
   "source": [
    "df2 = df2.drop(['user', 'application', 'device_type', 'device_type_new', 'time_of_day', 'time'], axis=1)\n",
    "df2.head()"
   ]
  },
  {
   "cell_type": "markdown",
   "metadata": {},
   "source": [
    "## Scaling"
   ]
  },
  {
   "cell_type": "code",
   "execution_count": 184,
   "metadata": {},
   "outputs": [
    {
     "data": {
      "text/html": [
       "<div>\n",
       "<style scoped>\n",
       "    .dataframe tbody tr th:only-of-type {\n",
       "        vertical-align: middle;\n",
       "    }\n",
       "\n",
       "    .dataframe tbody tr th {\n",
       "        vertical-align: top;\n",
       "    }\n",
       "\n",
       "    .dataframe thead th {\n",
       "        text-align: right;\n",
       "    }\n",
       "</style>\n",
       "<table border=\"1\" class=\"dataframe\">\n",
       "  <thead>\n",
       "    <tr style=\"text-align: right;\">\n",
       "      <th></th>\n",
       "      <th>device_type_new_android</th>\n",
       "      <th>device_type_new_iphone</th>\n",
       "      <th>device_type_new_undefined</th>\n",
       "      <th>device_type_new_yubikey</th>\n",
       "      <th>application_application_1</th>\n",
       "      <th>application_application_2</th>\n",
       "      <th>user_user_1</th>\n",
       "      <th>user_user_2</th>\n",
       "      <th>user_user_3</th>\n",
       "      <th>user_user_4</th>\n",
       "      <th>time</th>\n",
       "      <th>fraud</th>\n",
       "    </tr>\n",
       "  </thead>\n",
       "  <tbody>\n",
       "    <tr>\n",
       "      <th>0</th>\n",
       "      <td>1</td>\n",
       "      <td>0</td>\n",
       "      <td>0</td>\n",
       "      <td>0</td>\n",
       "      <td>1</td>\n",
       "      <td>0</td>\n",
       "      <td>1</td>\n",
       "      <td>0</td>\n",
       "      <td>0</td>\n",
       "      <td>0</td>\n",
       "      <td>-0.947859</td>\n",
       "      <td>0</td>\n",
       "    </tr>\n",
       "    <tr>\n",
       "      <th>1</th>\n",
       "      <td>1</td>\n",
       "      <td>0</td>\n",
       "      <td>0</td>\n",
       "      <td>0</td>\n",
       "      <td>0</td>\n",
       "      <td>1</td>\n",
       "      <td>1</td>\n",
       "      <td>0</td>\n",
       "      <td>0</td>\n",
       "      <td>0</td>\n",
       "      <td>-0.667807</td>\n",
       "      <td>0</td>\n",
       "    </tr>\n",
       "    <tr>\n",
       "      <th>2</th>\n",
       "      <td>1</td>\n",
       "      <td>0</td>\n",
       "      <td>0</td>\n",
       "      <td>0</td>\n",
       "      <td>0</td>\n",
       "      <td>1</td>\n",
       "      <td>1</td>\n",
       "      <td>0</td>\n",
       "      <td>0</td>\n",
       "      <td>0</td>\n",
       "      <td>-0.655003</td>\n",
       "      <td>0</td>\n",
       "    </tr>\n",
       "    <tr>\n",
       "      <th>3</th>\n",
       "      <td>1</td>\n",
       "      <td>0</td>\n",
       "      <td>0</td>\n",
       "      <td>0</td>\n",
       "      <td>0</td>\n",
       "      <td>1</td>\n",
       "      <td>1</td>\n",
       "      <td>0</td>\n",
       "      <td>0</td>\n",
       "      <td>0</td>\n",
       "      <td>-0.594317</td>\n",
       "      <td>0</td>\n",
       "    </tr>\n",
       "    <tr>\n",
       "      <th>4</th>\n",
       "      <td>1</td>\n",
       "      <td>0</td>\n",
       "      <td>0</td>\n",
       "      <td>0</td>\n",
       "      <td>1</td>\n",
       "      <td>0</td>\n",
       "      <td>1</td>\n",
       "      <td>0</td>\n",
       "      <td>0</td>\n",
       "      <td>0</td>\n",
       "      <td>-0.550400</td>\n",
       "      <td>0</td>\n",
       "    </tr>\n",
       "  </tbody>\n",
       "</table>\n",
       "</div>"
      ],
      "text/plain": [
       "   device_type_new_android  device_type_new_iphone  device_type_new_undefined  \\\n",
       "0                        1                       0                          0   \n",
       "1                        1                       0                          0   \n",
       "2                        1                       0                          0   \n",
       "3                        1                       0                          0   \n",
       "4                        1                       0                          0   \n",
       "\n",
       "   device_type_new_yubikey  application_application_1  \\\n",
       "0                        0                          1   \n",
       "1                        0                          0   \n",
       "2                        0                          0   \n",
       "3                        0                          0   \n",
       "4                        0                          1   \n",
       "\n",
       "   application_application_2  user_user_1  user_user_2  user_user_3  \\\n",
       "0                          0            1            0            0   \n",
       "1                          1            1            0            0   \n",
       "2                          1            1            0            0   \n",
       "3                          1            1            0            0   \n",
       "4                          0            1            0            0   \n",
       "\n",
       "   user_user_4      time  fraud  \n",
       "0            0 -0.947859      0  \n",
       "1            0 -0.667807      0  \n",
       "2            0 -0.655003      0  \n",
       "3            0 -0.594317      0  \n",
       "4            0 -0.550400      0  "
      ]
     },
     "execution_count": 184,
     "metadata": {},
     "output_type": "execute_result"
    }
   ],
   "source": [
    "#using standard scaler to scale the time column\n",
    "scaler = StandardScaler()\n",
    "time = df2['time'].values\n",
    "\n",
    "df2['time'] = scaler.fit_transform(time.reshape(-1, 1))\n",
    "\n",
    "df2.head()"
   ]
  },
  {
   "cell_type": "markdown",
   "metadata": {},
   "source": [
    "## Feature Selection & Data Split\n",
    "In this process, we are going to define the independent (X) and the dependent variables (Y). Using the defined variables, we will split the data into a training set and testing set which is further used for modeling and evaluating. We can split the data easily using the ‘train_test_split’ algorithm in python."
   ]
  },
  {
   "cell_type": "code",
   "execution_count": 231,
   "metadata": {},
   "outputs": [],
   "source": [
    "# DATA SPLIT\n",
    "\n",
    "X = df2.drop('fraud', axis = 1).values\n",
    "y = df2['fraud'].values\n",
    "\n",
    "X_train, X_test, y_train, y_test = train_test_split(X, y, test_size = 0.2, random_state = 0)"
   ]
  },
  {
   "cell_type": "code",
   "execution_count": 232,
   "metadata": {},
   "outputs": [],
   "source": [
    "# MODELING\n",
    "#Decision Tree\n",
    "\n",
    "tree_model = DecisionTreeClassifier(max_depth = 4, criterion = 'entropy')\n",
    "tree_model.fit(X_train, y_train)\n",
    "tree_yhat = tree_model.predict(X_test)"
   ]
  },
  {
   "cell_type": "markdown",
   "metadata": {},
   "source": [
    "I am using the decision tree model with the‘DecisionTreeClassifier’ to build the model. I have mentioned the ‘max_depth’ to be ‘4’ which means allowing the tree to split four times and the ‘criterion’ to be ‘entropy’ which determines when to stop splitting the tree. Finally, we have fitted and stored the predicted values into the ‘tree_yhat’ variable. Further we calculating the accuracy and f1 score for the same."
   ]
  },
  {
   "cell_type": "code",
   "execution_count": 233,
   "metadata": {},
   "outputs": [
    {
     "data": {
      "text/plain": [
       "0.9359605911330049"
      ]
     },
     "execution_count": 233,
     "metadata": {},
     "output_type": "execute_result"
    }
   ],
   "source": [
    "accuracy_score(y_test, tree_yhat)"
   ]
  },
  {
   "cell_type": "code",
   "execution_count": 234,
   "metadata": {},
   "outputs": [
    {
     "data": {
      "text/plain": [
       "0.4347826086956522"
      ]
     },
     "execution_count": 234,
     "metadata": {},
     "output_type": "execute_result"
    }
   ],
   "source": [
    "f1_score(y_test, tree_yhat)"
   ]
  },
  {
   "cell_type": "markdown",
   "metadata": {},
   "source": [
    "Since this is a class imbalance problem, f1 score provides a better evaluation score than accuracy because it gives more weightage to FP's and FN's. We can see from the above score that accuracy is 91.1% and f1_score is 18.2% approx. We might have to see the correlation of variables with our target variables and modify our algorithm or take care of class imbalance problem."
   ]
  },
  {
   "cell_type": "code",
   "execution_count": 235,
   "metadata": {},
   "outputs": [
    {
     "data": {
      "text/html": [
       "<div>\n",
       "<style scoped>\n",
       "    .dataframe tbody tr th:only-of-type {\n",
       "        vertical-align: middle;\n",
       "    }\n",
       "\n",
       "    .dataframe tbody tr th {\n",
       "        vertical-align: top;\n",
       "    }\n",
       "\n",
       "    .dataframe thead th {\n",
       "        text-align: right;\n",
       "    }\n",
       "</style>\n",
       "<table border=\"1\" class=\"dataframe\">\n",
       "  <thead>\n",
       "    <tr style=\"text-align: right;\">\n",
       "      <th></th>\n",
       "      <th>time_of_day_Day</th>\n",
       "      <th>time_of_day_Evening</th>\n",
       "      <th>time_of_day_Morning</th>\n",
       "      <th>time_of_day_Night</th>\n",
       "      <th>device_type_new_android</th>\n",
       "      <th>device_type_new_iphone</th>\n",
       "      <th>device_type_new_undefined</th>\n",
       "      <th>device_type_new_yubikey</th>\n",
       "      <th>application_application_1</th>\n",
       "      <th>application_application_2</th>\n",
       "      <th>user_user_1</th>\n",
       "      <th>user_user_2</th>\n",
       "      <th>user_user_3</th>\n",
       "      <th>user_user_4</th>\n",
       "      <th>fraud</th>\n",
       "    </tr>\n",
       "  </thead>\n",
       "  <tbody>\n",
       "    <tr>\n",
       "      <th>time_of_day_Day</th>\n",
       "      <td>1.000000</td>\n",
       "      <td>-0.346384</td>\n",
       "      <td>-0.543757</td>\n",
       "      <td>-0.426964</td>\n",
       "      <td>0.383179</td>\n",
       "      <td>-0.223679</td>\n",
       "      <td>-0.160579</td>\n",
       "      <td>-0.179464</td>\n",
       "      <td>0.220734</td>\n",
       "      <td>-0.220734</td>\n",
       "      <td>0.461664</td>\n",
       "      <td>-0.245320</td>\n",
       "      <td>-0.147694</td>\n",
       "      <td>-0.240819</td>\n",
       "      <td>-0.018447</td>\n",
       "    </tr>\n",
       "    <tr>\n",
       "      <th>time_of_day_Evening</th>\n",
       "      <td>-0.346384</td>\n",
       "      <td>1.000000</td>\n",
       "      <td>-0.201034</td>\n",
       "      <td>-0.157854</td>\n",
       "      <td>-0.192474</td>\n",
       "      <td>0.212942</td>\n",
       "      <td>-0.095302</td>\n",
       "      <td>0.138782</td>\n",
       "      <td>-0.125188</td>\n",
       "      <td>0.125188</td>\n",
       "      <td>-0.251854</td>\n",
       "      <td>0.207890</td>\n",
       "      <td>-0.101274</td>\n",
       "      <td>0.203023</td>\n",
       "      <td>-0.017432</td>\n",
       "    </tr>\n",
       "    <tr>\n",
       "      <th>time_of_day_Morning</th>\n",
       "      <td>-0.543757</td>\n",
       "      <td>-0.201034</td>\n",
       "      <td>1.000000</td>\n",
       "      <td>-0.247800</td>\n",
       "      <td>0.093073</td>\n",
       "      <td>0.058973</td>\n",
       "      <td>-0.127813</td>\n",
       "      <td>-0.095785</td>\n",
       "      <td>-0.074382</td>\n",
       "      <td>0.074382</td>\n",
       "      <td>-0.040344</td>\n",
       "      <td>-0.144764</td>\n",
       "      <td>-0.130358</td>\n",
       "      <td>0.280873</td>\n",
       "      <td>0.032832</td>\n",
       "    </tr>\n",
       "    <tr>\n",
       "      <th>time_of_day_Night</th>\n",
       "      <td>-0.426964</td>\n",
       "      <td>-0.157854</td>\n",
       "      <td>-0.247800</td>\n",
       "      <td>1.000000</td>\n",
       "      <td>-0.460849</td>\n",
       "      <td>0.051579</td>\n",
       "      <td>0.446997</td>\n",
       "      <td>0.234414</td>\n",
       "      <td>-0.105165</td>\n",
       "      <td>0.105165</td>\n",
       "      <td>-0.361767</td>\n",
       "      <td>0.320809</td>\n",
       "      <td>0.437632</td>\n",
       "      <td>-0.173309</td>\n",
       "      <td>0.001973</td>\n",
       "    </tr>\n",
       "    <tr>\n",
       "      <th>device_type_new_android</th>\n",
       "      <td>0.383179</td>\n",
       "      <td>-0.192474</td>\n",
       "      <td>0.093073</td>\n",
       "      <td>-0.460849</td>\n",
       "      <td>1.000000</td>\n",
       "      <td>-0.589001</td>\n",
       "      <td>-0.434520</td>\n",
       "      <td>-0.446799</td>\n",
       "      <td>0.289915</td>\n",
       "      <td>-0.289915</td>\n",
       "      <td>0.715514</td>\n",
       "      <td>-0.509315</td>\n",
       "      <td>-0.406821</td>\n",
       "      <td>-0.120575</td>\n",
       "      <td>-0.047580</td>\n",
       "    </tr>\n",
       "    <tr>\n",
       "      <th>device_type_new_iphone</th>\n",
       "      <td>-0.223679</td>\n",
       "      <td>0.212942</td>\n",
       "      <td>0.058973</td>\n",
       "      <td>0.051579</td>\n",
       "      <td>-0.589001</td>\n",
       "      <td>1.000000</td>\n",
       "      <td>-0.143543</td>\n",
       "      <td>-0.147600</td>\n",
       "      <td>-0.174807</td>\n",
       "      <td>0.174807</td>\n",
       "      <td>-0.436887</td>\n",
       "      <td>0.261711</td>\n",
       "      <td>-0.132460</td>\n",
       "      <td>0.408798</td>\n",
       "      <td>0.046202</td>\n",
       "    </tr>\n",
       "    <tr>\n",
       "      <th>device_type_new_undefined</th>\n",
       "      <td>-0.160579</td>\n",
       "      <td>-0.095302</td>\n",
       "      <td>-0.127813</td>\n",
       "      <td>0.446997</td>\n",
       "      <td>-0.434520</td>\n",
       "      <td>-0.143543</td>\n",
       "      <td>1.000000</td>\n",
       "      <td>-0.108888</td>\n",
       "      <td>-0.339601</td>\n",
       "      <td>0.339601</td>\n",
       "      <td>-0.313569</td>\n",
       "      <td>-0.120824</td>\n",
       "      <td>0.857888</td>\n",
       "      <td>-0.154010</td>\n",
       "      <td>0.001523</td>\n",
       "    </tr>\n",
       "    <tr>\n",
       "      <th>device_type_new_yubikey</th>\n",
       "      <td>-0.179464</td>\n",
       "      <td>0.138782</td>\n",
       "      <td>-0.095785</td>\n",
       "      <td>0.234414</td>\n",
       "      <td>-0.446799</td>\n",
       "      <td>-0.147600</td>\n",
       "      <td>-0.108888</td>\n",
       "      <td>1.000000</td>\n",
       "      <td>0.084329</td>\n",
       "      <td>-0.084329</td>\n",
       "      <td>-0.298130</td>\n",
       "      <td>0.609085</td>\n",
       "      <td>-0.027687</td>\n",
       "      <td>-0.158786</td>\n",
       "      <td>0.017680</td>\n",
       "    </tr>\n",
       "    <tr>\n",
       "      <th>application_application_1</th>\n",
       "      <td>0.220734</td>\n",
       "      <td>-0.125188</td>\n",
       "      <td>-0.074382</td>\n",
       "      <td>-0.105165</td>\n",
       "      <td>0.289915</td>\n",
       "      <td>-0.174807</td>\n",
       "      <td>-0.339601</td>\n",
       "      <td>0.084329</td>\n",
       "      <td>1.000000</td>\n",
       "      <td>-1.000000</td>\n",
       "      <td>0.462259</td>\n",
       "      <td>0.123634</td>\n",
       "      <td>-0.277538</td>\n",
       "      <td>-0.476681</td>\n",
       "      <td>-0.037327</td>\n",
       "    </tr>\n",
       "    <tr>\n",
       "      <th>application_application_2</th>\n",
       "      <td>-0.220734</td>\n",
       "      <td>0.125188</td>\n",
       "      <td>0.074382</td>\n",
       "      <td>0.105165</td>\n",
       "      <td>-0.289915</td>\n",
       "      <td>0.174807</td>\n",
       "      <td>0.339601</td>\n",
       "      <td>-0.084329</td>\n",
       "      <td>-1.000000</td>\n",
       "      <td>1.000000</td>\n",
       "      <td>-0.462259</td>\n",
       "      <td>-0.123634</td>\n",
       "      <td>0.277538</td>\n",
       "      <td>0.476681</td>\n",
       "      <td>0.037327</td>\n",
       "    </tr>\n",
       "    <tr>\n",
       "      <th>user_user_1</th>\n",
       "      <td>0.461664</td>\n",
       "      <td>-0.251854</td>\n",
       "      <td>-0.040344</td>\n",
       "      <td>-0.361767</td>\n",
       "      <td>0.715514</td>\n",
       "      <td>-0.436887</td>\n",
       "      <td>-0.313569</td>\n",
       "      <td>-0.298130</td>\n",
       "      <td>0.462259</td>\n",
       "      <td>-0.462259</td>\n",
       "      <td>1.000000</td>\n",
       "      <td>-0.465844</td>\n",
       "      <td>-0.369895</td>\n",
       "      <td>-0.542866</td>\n",
       "      <td>-0.018496</td>\n",
       "    </tr>\n",
       "    <tr>\n",
       "      <th>user_user_2</th>\n",
       "      <td>-0.245320</td>\n",
       "      <td>0.207890</td>\n",
       "      <td>-0.144764</td>\n",
       "      <td>0.320809</td>\n",
       "      <td>-0.509315</td>\n",
       "      <td>0.261711</td>\n",
       "      <td>-0.120824</td>\n",
       "      <td>0.609085</td>\n",
       "      <td>0.123634</td>\n",
       "      <td>-0.123634</td>\n",
       "      <td>-0.465844</td>\n",
       "      <td>1.000000</td>\n",
       "      <td>-0.145635</td>\n",
       "      <td>-0.213736</td>\n",
       "      <td>0.018381</td>\n",
       "    </tr>\n",
       "    <tr>\n",
       "      <th>user_user_3</th>\n",
       "      <td>-0.147694</td>\n",
       "      <td>-0.101274</td>\n",
       "      <td>-0.130358</td>\n",
       "      <td>0.437632</td>\n",
       "      <td>-0.406821</td>\n",
       "      <td>-0.132460</td>\n",
       "      <td>0.857888</td>\n",
       "      <td>-0.027687</td>\n",
       "      <td>-0.277538</td>\n",
       "      <td>0.277538</td>\n",
       "      <td>-0.369895</td>\n",
       "      <td>-0.145635</td>\n",
       "      <td>1.000000</td>\n",
       "      <td>-0.169714</td>\n",
       "      <td>0.003470</td>\n",
       "    </tr>\n",
       "    <tr>\n",
       "      <th>user_user_4</th>\n",
       "      <td>-0.240819</td>\n",
       "      <td>0.203023</td>\n",
       "      <td>0.280873</td>\n",
       "      <td>-0.173309</td>\n",
       "      <td>-0.120575</td>\n",
       "      <td>0.408798</td>\n",
       "      <td>-0.154010</td>\n",
       "      <td>-0.158786</td>\n",
       "      <td>-0.476681</td>\n",
       "      <td>0.476681</td>\n",
       "      <td>-0.542866</td>\n",
       "      <td>-0.213736</td>\n",
       "      <td>-0.169714</td>\n",
       "      <td>1.000000</td>\n",
       "      <td>0.003769</td>\n",
       "    </tr>\n",
       "    <tr>\n",
       "      <th>fraud</th>\n",
       "      <td>-0.018447</td>\n",
       "      <td>-0.017432</td>\n",
       "      <td>0.032832</td>\n",
       "      <td>0.001973</td>\n",
       "      <td>-0.047580</td>\n",
       "      <td>0.046202</td>\n",
       "      <td>0.001523</td>\n",
       "      <td>0.017680</td>\n",
       "      <td>-0.037327</td>\n",
       "      <td>0.037327</td>\n",
       "      <td>-0.018496</td>\n",
       "      <td>0.018381</td>\n",
       "      <td>0.003470</td>\n",
       "      <td>0.003769</td>\n",
       "      <td>1.000000</td>\n",
       "    </tr>\n",
       "  </tbody>\n",
       "</table>\n",
       "</div>"
      ],
      "text/plain": [
       "                           time_of_day_Day  time_of_day_Evening  \\\n",
       "time_of_day_Day                   1.000000            -0.346384   \n",
       "time_of_day_Evening              -0.346384             1.000000   \n",
       "time_of_day_Morning              -0.543757            -0.201034   \n",
       "time_of_day_Night                -0.426964            -0.157854   \n",
       "device_type_new_android           0.383179            -0.192474   \n",
       "device_type_new_iphone           -0.223679             0.212942   \n",
       "device_type_new_undefined        -0.160579            -0.095302   \n",
       "device_type_new_yubikey          -0.179464             0.138782   \n",
       "application_application_1         0.220734            -0.125188   \n",
       "application_application_2        -0.220734             0.125188   \n",
       "user_user_1                       0.461664            -0.251854   \n",
       "user_user_2                      -0.245320             0.207890   \n",
       "user_user_3                      -0.147694            -0.101274   \n",
       "user_user_4                      -0.240819             0.203023   \n",
       "fraud                            -0.018447            -0.017432   \n",
       "\n",
       "                           time_of_day_Morning  time_of_day_Night  \\\n",
       "time_of_day_Day                      -0.543757          -0.426964   \n",
       "time_of_day_Evening                  -0.201034          -0.157854   \n",
       "time_of_day_Morning                   1.000000          -0.247800   \n",
       "time_of_day_Night                    -0.247800           1.000000   \n",
       "device_type_new_android               0.093073          -0.460849   \n",
       "device_type_new_iphone                0.058973           0.051579   \n",
       "device_type_new_undefined            -0.127813           0.446997   \n",
       "device_type_new_yubikey              -0.095785           0.234414   \n",
       "application_application_1            -0.074382          -0.105165   \n",
       "application_application_2             0.074382           0.105165   \n",
       "user_user_1                          -0.040344          -0.361767   \n",
       "user_user_2                          -0.144764           0.320809   \n",
       "user_user_3                          -0.130358           0.437632   \n",
       "user_user_4                           0.280873          -0.173309   \n",
       "fraud                                 0.032832           0.001973   \n",
       "\n",
       "                           device_type_new_android  device_type_new_iphone  \\\n",
       "time_of_day_Day                           0.383179               -0.223679   \n",
       "time_of_day_Evening                      -0.192474                0.212942   \n",
       "time_of_day_Morning                       0.093073                0.058973   \n",
       "time_of_day_Night                        -0.460849                0.051579   \n",
       "device_type_new_android                   1.000000               -0.589001   \n",
       "device_type_new_iphone                   -0.589001                1.000000   \n",
       "device_type_new_undefined                -0.434520               -0.143543   \n",
       "device_type_new_yubikey                  -0.446799               -0.147600   \n",
       "application_application_1                 0.289915               -0.174807   \n",
       "application_application_2                -0.289915                0.174807   \n",
       "user_user_1                               0.715514               -0.436887   \n",
       "user_user_2                              -0.509315                0.261711   \n",
       "user_user_3                              -0.406821               -0.132460   \n",
       "user_user_4                              -0.120575                0.408798   \n",
       "fraud                                    -0.047580                0.046202   \n",
       "\n",
       "                           device_type_new_undefined  device_type_new_yubikey  \\\n",
       "time_of_day_Day                            -0.160579                -0.179464   \n",
       "time_of_day_Evening                        -0.095302                 0.138782   \n",
       "time_of_day_Morning                        -0.127813                -0.095785   \n",
       "time_of_day_Night                           0.446997                 0.234414   \n",
       "device_type_new_android                    -0.434520                -0.446799   \n",
       "device_type_new_iphone                     -0.143543                -0.147600   \n",
       "device_type_new_undefined                   1.000000                -0.108888   \n",
       "device_type_new_yubikey                    -0.108888                 1.000000   \n",
       "application_application_1                  -0.339601                 0.084329   \n",
       "application_application_2                   0.339601                -0.084329   \n",
       "user_user_1                                -0.313569                -0.298130   \n",
       "user_user_2                                -0.120824                 0.609085   \n",
       "user_user_3                                 0.857888                -0.027687   \n",
       "user_user_4                                -0.154010                -0.158786   \n",
       "fraud                                       0.001523                 0.017680   \n",
       "\n",
       "                           application_application_1  \\\n",
       "time_of_day_Day                             0.220734   \n",
       "time_of_day_Evening                        -0.125188   \n",
       "time_of_day_Morning                        -0.074382   \n",
       "time_of_day_Night                          -0.105165   \n",
       "device_type_new_android                     0.289915   \n",
       "device_type_new_iphone                     -0.174807   \n",
       "device_type_new_undefined                  -0.339601   \n",
       "device_type_new_yubikey                     0.084329   \n",
       "application_application_1                   1.000000   \n",
       "application_application_2                  -1.000000   \n",
       "user_user_1                                 0.462259   \n",
       "user_user_2                                 0.123634   \n",
       "user_user_3                                -0.277538   \n",
       "user_user_4                                -0.476681   \n",
       "fraud                                      -0.037327   \n",
       "\n",
       "                           application_application_2  user_user_1  \\\n",
       "time_of_day_Day                            -0.220734     0.461664   \n",
       "time_of_day_Evening                         0.125188    -0.251854   \n",
       "time_of_day_Morning                         0.074382    -0.040344   \n",
       "time_of_day_Night                           0.105165    -0.361767   \n",
       "device_type_new_android                    -0.289915     0.715514   \n",
       "device_type_new_iphone                      0.174807    -0.436887   \n",
       "device_type_new_undefined                   0.339601    -0.313569   \n",
       "device_type_new_yubikey                    -0.084329    -0.298130   \n",
       "application_application_1                  -1.000000     0.462259   \n",
       "application_application_2                   1.000000    -0.462259   \n",
       "user_user_1                                -0.462259     1.000000   \n",
       "user_user_2                                -0.123634    -0.465844   \n",
       "user_user_3                                 0.277538    -0.369895   \n",
       "user_user_4                                 0.476681    -0.542866   \n",
       "fraud                                       0.037327    -0.018496   \n",
       "\n",
       "                           user_user_2  user_user_3  user_user_4     fraud  \n",
       "time_of_day_Day              -0.245320    -0.147694    -0.240819 -0.018447  \n",
       "time_of_day_Evening           0.207890    -0.101274     0.203023 -0.017432  \n",
       "time_of_day_Morning          -0.144764    -0.130358     0.280873  0.032832  \n",
       "time_of_day_Night             0.320809     0.437632    -0.173309  0.001973  \n",
       "device_type_new_android      -0.509315    -0.406821    -0.120575 -0.047580  \n",
       "device_type_new_iphone        0.261711    -0.132460     0.408798  0.046202  \n",
       "device_type_new_undefined    -0.120824     0.857888    -0.154010  0.001523  \n",
       "device_type_new_yubikey       0.609085    -0.027687    -0.158786  0.017680  \n",
       "application_application_1     0.123634    -0.277538    -0.476681 -0.037327  \n",
       "application_application_2    -0.123634     0.277538     0.476681  0.037327  \n",
       "user_user_1                  -0.465844    -0.369895    -0.542866 -0.018496  \n",
       "user_user_2                   1.000000    -0.145635    -0.213736  0.018381  \n",
       "user_user_3                  -0.145635     1.000000    -0.169714  0.003470  \n",
       "user_user_4                  -0.213736    -0.169714     1.000000  0.003769  \n",
       "fraud                         0.018381     0.003470     0.003769  1.000000  "
      ]
     },
     "execution_count": 235,
     "metadata": {},
     "output_type": "execute_result"
    }
   ],
   "source": [
    "df2.corr()"
   ]
  },
  {
   "cell_type": "code",
   "execution_count": 255,
   "metadata": {},
   "outputs": [],
   "source": [
    "#df3=df2.drop(['time','device_type_new_undefined'], axis=1)\n",
    "df3=df2.drop(['time_of_day_Night', 'device_type_new_undefined', 'user_user_3', 'user_user_4'], axis=1)"
   ]
  },
  {
   "cell_type": "markdown",
   "metadata": {},
   "source": [
    "By dropping the features above which has low correlation with our target variable, we get a much better F1 score and improved accuracy. "
   ]
  },
  {
   "cell_type": "code",
   "execution_count": 256,
   "metadata": {},
   "outputs": [],
   "source": [
    "# DATA SPLIT\n",
    "\n",
    "X = df3.drop('fraud', axis = 1).values\n",
    "y = df3['fraud'].values\n",
    "\n",
    "X_train, X_test, y_train, y_test = train_test_split(X, y, test_size = 0.2, random_state = 0)"
   ]
  },
  {
   "cell_type": "code",
   "execution_count": 257,
   "metadata": {},
   "outputs": [],
   "source": [
    "# MODELING\n",
    "#Decision Tree\n",
    "\n",
    "tree_model = DecisionTreeClassifier(max_depth = 4, criterion = 'entropy')\n",
    "tree_model.fit(X_train, y_train)\n",
    "tree_yhat = tree_model.predict(X_test)"
   ]
  },
  {
   "cell_type": "code",
   "execution_count": 258,
   "metadata": {},
   "outputs": [
    {
     "data": {
      "text/plain": [
       "0.9458128078817734"
      ]
     },
     "execution_count": 258,
     "metadata": {},
     "output_type": "execute_result"
    }
   ],
   "source": [
    "accuracy_score(y_test, tree_yhat)"
   ]
  },
  {
   "cell_type": "code",
   "execution_count": 259,
   "metadata": {},
   "outputs": [
    {
     "data": {
      "text/plain": [
       "0.56"
      ]
     },
     "execution_count": 259,
     "metadata": {},
     "output_type": "execute_result"
    }
   ],
   "source": [
    "f1_score(y_test, tree_yhat)"
   ]
  },
  {
   "cell_type": "markdown",
   "metadata": {},
   "source": [
    "Lets try fitting the K-nn model. Here I have taken the value of n=4, which means the decision of the target variable (Fraud or not) would depend on 4 nearest neighbors."
   ]
  },
  {
   "cell_type": "code",
   "execution_count": 278,
   "metadata": {},
   "outputs": [],
   "source": [
    "n = 5\n",
    "\n",
    "knn = KNeighborsClassifier(n_neighbors = n)\n",
    "knn.fit(X_train, y_train)\n",
    "knn_yhat = knn.predict(X_test)"
   ]
  },
  {
   "cell_type": "code",
   "execution_count": 279,
   "metadata": {},
   "outputs": [
    {
     "data": {
      "text/plain": [
       "0.9310344827586207"
      ]
     },
     "execution_count": 279,
     "metadata": {},
     "output_type": "execute_result"
    }
   ],
   "source": [
    "accuracy_score(y_test, knn_yhat)"
   ]
  },
  {
   "cell_type": "code",
   "execution_count": 280,
   "metadata": {},
   "outputs": [
    {
     "data": {
      "text/plain": [
       "0.3636363636363636"
      ]
     },
     "execution_count": 280,
     "metadata": {},
     "output_type": "execute_result"
    }
   ],
   "source": [
    "f1_score(y_test, knn_yhat)"
   ]
  },
  {
   "cell_type": "markdown",
   "metadata": {},
   "source": [
    "As we can see above using KNN both the accuracy and f1 score has improved as compared to our previous Decision tree model."
   ]
  },
  {
   "cell_type": "code",
   "execution_count": 264,
   "metadata": {},
   "outputs": [
    {
     "name": "stderr",
     "output_type": "stream",
     "text": [
      "/Users/sanch_g/anaconda3/lib/python3.7/site-packages/sklearn/linear_model/logistic.py:433: FutureWarning: Default solver will be changed to 'lbfgs' in 0.22. Specify a solver to silence this warning.\n",
      "  FutureWarning)\n"
     ]
    }
   ],
   "source": [
    "# 3. Logistic Regression\n",
    "\n",
    "lr = LogisticRegression()\n",
    "lr.fit(X_train, y_train)\n",
    "lr_yhat = lr.predict(X_test)"
   ]
  },
  {
   "cell_type": "code",
   "execution_count": 265,
   "metadata": {},
   "outputs": [
    {
     "data": {
      "text/plain": [
       "0.9113300492610837"
      ]
     },
     "execution_count": 265,
     "metadata": {},
     "output_type": "execute_result"
    }
   ],
   "source": [
    "accuracy_score(y_test, lr_yhat)"
   ]
  },
  {
   "cell_type": "code",
   "execution_count": 266,
   "metadata": {},
   "outputs": [
    {
     "name": "stderr",
     "output_type": "stream",
     "text": [
      "/Users/sanch_g/anaconda3/lib/python3.7/site-packages/sklearn/metrics/classification.py:1143: UndefinedMetricWarning: F-score is ill-defined and being set to 0.0 due to no predicted samples.\n",
      "  'precision', 'predicted', average, warn_for)\n"
     ]
    },
    {
     "data": {
      "text/plain": [
       "0.0"
      ]
     },
     "execution_count": 266,
     "metadata": {},
     "output_type": "execute_result"
    }
   ],
   "source": [
    "f1_score(y_test, lr_yhat)"
   ]
  },
  {
   "cell_type": "code",
   "execution_count": 267,
   "metadata": {},
   "outputs": [
    {
     "name": "stderr",
     "output_type": "stream",
     "text": [
      "/Users/sanch_g/anaconda3/lib/python3.7/site-packages/sklearn/svm/base.py:196: FutureWarning: The default value of gamma will change from 'auto' to 'scale' in version 0.22 to account better for unscaled features. Set gamma explicitly to 'auto' or 'scale' to avoid this warning.\n",
      "  \"avoid this warning.\", FutureWarning)\n"
     ]
    }
   ],
   "source": [
    "# SVM \n",
    "\n",
    "svm = SVC()\n",
    "svm.fit(X_train, y_train)\n",
    "svm_yhat = svm.predict(X_test)"
   ]
  },
  {
   "cell_type": "code",
   "execution_count": 268,
   "metadata": {},
   "outputs": [
    {
     "data": {
      "text/plain": [
       "0.9113300492610837"
      ]
     },
     "execution_count": 268,
     "metadata": {},
     "output_type": "execute_result"
    }
   ],
   "source": [
    "accuracy_score(y_test, svm_yhat)"
   ]
  },
  {
   "cell_type": "code",
   "execution_count": 269,
   "metadata": {},
   "outputs": [
    {
     "name": "stderr",
     "output_type": "stream",
     "text": [
      "/Users/sanch_g/anaconda3/lib/python3.7/site-packages/sklearn/metrics/classification.py:1143: UndefinedMetricWarning: F-score is ill-defined and being set to 0.0 due to no predicted samples.\n",
      "  'precision', 'predicted', average, warn_for)\n"
     ]
    },
    {
     "data": {
      "text/plain": [
       "0.0"
      ]
     },
     "execution_count": 269,
     "metadata": {},
     "output_type": "execute_result"
    }
   ],
   "source": [
    "f1_score(y_test, svm_yhat)"
   ]
  },
  {
   "cell_type": "markdown",
   "metadata": {},
   "source": [
    "We can see from above that Logistic regression and SVM perform terribly for class imbalance problem with an f1 score of 0. So we should avoid using these algorithms for our usecase."
   ]
  },
  {
   "cell_type": "code",
   "execution_count": 270,
   "metadata": {},
   "outputs": [
    {
     "name": "stderr",
     "output_type": "stream",
     "text": [
      "/Users/sanch_g/anaconda3/lib/python3.7/site-packages/sklearn/ensemble/forest.py:246: FutureWarning: The default value of n_estimators will change from 10 in version 0.20 to 100 in 0.22.\n",
      "  \"10 in version 0.20 to 100 in 0.22.\", FutureWarning)\n"
     ]
    }
   ],
   "source": [
    "#Random Forest Tree\n",
    "\n",
    "rf = RandomForestClassifier(max_depth = 4)\n",
    "rf.fit(X_train, y_train)\n",
    "rf_yhat = rf.predict(X_test)"
   ]
  },
  {
   "cell_type": "code",
   "execution_count": 271,
   "metadata": {},
   "outputs": [
    {
     "data": {
      "text/plain": [
       "0.9458128078817734"
      ]
     },
     "execution_count": 271,
     "metadata": {},
     "output_type": "execute_result"
    }
   ],
   "source": [
    "accuracy_score(y_test, rf_yhat)"
   ]
  },
  {
   "cell_type": "code",
   "execution_count": 272,
   "metadata": {},
   "outputs": [
    {
     "data": {
      "text/plain": [
       "0.56"
      ]
     },
     "execution_count": 272,
     "metadata": {},
     "output_type": "execute_result"
    }
   ],
   "source": [
    "f1_score(y_test, rf_yhat)"
   ]
  },
  {
   "cell_type": "code",
   "execution_count": 273,
   "metadata": {
    "scrolled": false
   },
   "outputs": [
    {
     "data": {
      "image/png": "[encoded data removed]",
      "text/plain": [
       "<Figure size 432x432 with 2 Axes>"
      ]
     },
     "metadata": {
      "needs_background": "light"
     },
     "output_type": "display_data"
    },
    {
     "data": {
      "image/png": "[encoded data removed]",
      "text/plain": [
       "<Figure size 432x432 with 2 Axes>"
      ]
     },
     "metadata": {
      "needs_background": "light"
     },
     "output_type": "display_data"
    },
    {
     "data": {
      "image/png": "[encoded data removed]",
      "text/plain": [
       "<Figure size 432x432 with 2 Axes>"
      ]
     },
     "metadata": {
      "needs_background": "light"
     },
     "output_type": "display_data"
    },
    {
     "data": {
      "image/png": "[encoded data removed]",
      "text/plain": [
       "<Figure size 432x432 with 2 Axes>"
      ]
     },
     "metadata": {
      "needs_background": "light"
     },
     "output_type": "display_data"
    },
    {
     "data": {
      "image/png": "[encoded data removed]",
      "text/plain": [
       "<Figure size 432x432 with 2 Axes>"
      ]
     },
     "metadata": {
      "needs_background": "light"
     },
     "output_type": "display_data"
    }
   ],
   "source": [
    "import itertools\n",
    "\n",
    "def plot_confusion_matrix(cm, classes, title, normalize = False, cmap = plt.cm.Blues):\n",
    "    title = 'Confusion Matrix of {}'.format(title)\n",
    "    if normalize:\n",
    "        cm = cm.astype(float) / cm.sum(axis=1)[:, np.newaxis]\n",
    "\n",
    "    plt.imshow(cm, interpolation = 'nearest', cmap = cmap)\n",
    "    plt.title(title)\n",
    "    plt.colorbar()\n",
    "    tick_marks = np.arange(len(classes))\n",
    "    plt.xticks(tick_marks, classes, rotation = 45)\n",
    "    plt.yticks(tick_marks, classes)\n",
    "\n",
    "    fmt = '.2f' if normalize else 'd'\n",
    "    thresh = cm.max() / 2.\n",
    "    for i, j in itertools.product(range(cm.shape[0]), range(cm.shape[1])):\n",
    "        plt.text(j, i, format(cm[i, j], fmt),\n",
    "                 horizontalalignment = 'center',\n",
    "                 color = 'white' if cm[i, j] > thresh else 'black')\n",
    "\n",
    "    plt.tight_layout()\n",
    "    plt.ylabel('True label')\n",
    "    plt.xlabel('Predicted label')\n",
    "\n",
    "tree_matrix = confusion_matrix(y_test, tree_yhat, labels = [0, 1]) # Decision Tree\n",
    "knn_matrix = confusion_matrix(y_test, knn_yhat, labels = [0, 1]) # K-Nearest Neighbors\n",
    "lr_matrix = confusion_matrix(y_test, lr_yhat, labels = [0, 1]) # Logistic Regression\n",
    "svm_matrix = confusion_matrix(y_test, svm_yhat, labels = [0, 1]) # Support Vector Machine\n",
    "rf_matrix = confusion_matrix(y_test, rf_yhat, labels = [0, 1]) # Random Forest Tree\n",
    "#xgb_matrix = confusion_matrix(y_test, xgb_yhat, labels = [0, 1]) # XGBoost\n",
    "\n",
    "# Plot the confusion matrix\n",
    "\n",
    "plt.rcParams['figure.figsize'] = (6, 6)\n",
    "\n",
    "# 1. Decision tree\n",
    "\n",
    "tree_cm_plot = plot_confusion_matrix(tree_matrix, \n",
    "                                classes = ['Non-Default(0)','Default(1)'], \n",
    "                                normalize = False, title = 'Decision Tree')\n",
    "plt.savefig('tree_cm_plot.png')\n",
    "plt.show()\n",
    "\n",
    "# 2. K-Nearest Neighbors\n",
    "\n",
    "knn_cm_plot = plot_confusion_matrix(knn_matrix, \n",
    "                                classes = ['Non-Default(0)','Default(1)'], \n",
    "                                normalize = False, title = 'KNN')\n",
    "plt.savefig('knn_cm_plot.png')\n",
    "plt.show()\n",
    "\n",
    "# 3. Logistic regression\n",
    "\n",
    "lr_cm_plot = plot_confusion_matrix(lr_matrix, \n",
    "                                classes = ['Non-Default(0)','Default(1)'], \n",
    "                                normalize = False, title = 'Logistic Regression')\n",
    "plt.savefig('lr_cm_plot.png')\n",
    "plt.show()\n",
    "\n",
    "# 4. Support Vector Machine\n",
    "\n",
    "svm_cm_plot = plot_confusion_matrix(svm_matrix, \n",
    "                                classes = ['Non-Default(0)','Default(1)'], \n",
    "                                normalize = False, title = 'SVM')\n",
    "plt.savefig('svm_cm_plot.png')\n",
    "plt.show()\n",
    "\n",
    "# 5. Random forest tree\n",
    "\n",
    "rf_cm_plot = plot_confusion_matrix(rf_matrix, \n",
    "                                classes = ['Non-Default(0)','Default(1)'], \n",
    "                                normalize = False, title = 'Random Forest Tree')\n",
    "plt.savefig('rf_cm_plot.png')\n",
    "plt.show()"
   ]
  },
  {
   "cell_type": "raw",
   "metadata": {},
   "source": [
    "tree_matrix"
   ]
  },
  {
   "cell_type": "markdown",
   "metadata": {},
   "source": [
    "Out of the 3 models above -- Decision tree, KNN and Random Forest tree we get the best results using the Random Forest model followed by KNN and then Decision Tree."
   ]
  },
  {
   "cell_type": "markdown",
   "metadata": {},
   "source": [
    "Summary: The data above has a class imbalance problem. there are less number of fraudulent transactions. Given more time some measures can be taken to solve that to get better evaluation results for F1 score. Also there are some features which has low correlation with the target variable so they have been removed from the analysis."
   ]
  },
  {
   "cell_type": "markdown",
   "metadata": {},
   "source": [
    "Decision trees often perform well on imbalanced datasets. The splitting rules that look at the class variable used in the creation of the trees, can force both classes to be addressed."
   ]
  },
  {
   "cell_type": "markdown",
   "metadata": {},
   "source": [
    "\n",
    "## Q3: Devices and applications <a id=\"C\"></a>\n",
    "### Is the distribution of device_type dependent on the application being accessed, given the identity of the user performing the action? "
   ]
  },
  {
   "cell_type": "code",
   "execution_count": 209,
   "metadata": {},
   "outputs": [],
   "source": [
    "grp_by_device_type_application= df.groupby(['user', 'application', 'device_type'],\n",
    "                                                          as_index=False)['user', 'application', 'device_type'].size()"
   ]
  },
  {
   "cell_type": "code",
   "execution_count": 210,
   "metadata": {},
   "outputs": [
    {
     "data": {
      "text/plain": [
       "user    application    device_type\n",
       "user_1  application_1  android        399\n",
       "                       iphone           6\n",
       "                       yubikey          4\n",
       "        application_2  android        127\n",
       "                       iphone           2\n",
       "                       yubikey          6\n",
       "user_2  application_1  android          7\n",
       "                       iphone          44\n",
       "                       yubikey         55\n",
       "        application_2  android          4\n",
       "                       iphone          17\n",
       "                       yubikey         28\n",
       "user_3  application_1  android          4\n",
       "                       yubikey          8\n",
       "        application_2  android          3\n",
       "                       iphone           2\n",
       "user_4  application_1  android          6\n",
       "                       iphone           5\n",
       "        application_2  android        100\n",
       "                       iphone          89\n",
       "                       yubikey          1\n",
       "dtype: int64"
      ]
     },
     "execution_count": 210,
     "metadata": {},
     "output_type": "execute_result"
    }
   ],
   "source": [
    "grp_by_device_type_application"
   ]
  },
  {
   "cell_type": "markdown",
   "metadata": {},
   "source": [
    "As we can see from the above data device type android and yubikey are more in in count with application 1 as compared to application 2 and device type iphone is more in count with application 2. This doesnot mean that any particular device is dependent on any application. The data is distributed."
   ]
  },
  {
   "cell_type": "code",
   "execution_count": null,
   "metadata": {},
   "outputs": [],
   "source": []
  }
 ],
 "metadata": {
  "kernelspec": {
   "display_name": "Python 3",
   "language": "python",
   "name": "python3"
  },
  "language_info": {
   "codemirror_mode": {
    "name": "ipython",
    "version": 3
   },
   "file_extension": ".py",
   "mimetype": "text/x-python",
   "name": "python",
   "nbconvert_exporter": "python",
   "pygments_lexer": "ipython3",
   "version": "3.7.3"
  }
 },
 "nbformat": 4,
 "nbformat_minor": 2
}
